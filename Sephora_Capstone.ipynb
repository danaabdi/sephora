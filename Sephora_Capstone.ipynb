{
  "nbformat": 4,
  "nbformat_minor": 0,
  "metadata": {
    "colab": {
      "provenance": [],
      "authorship_tag": "ABX9TyNid5nqDpAHek4ttCdHiuQ+",
      "include_colab_link": true
    },
    "kernelspec": {
      "name": "python3",
      "display_name": "Python 3"
    },
    "language_info": {
      "name": "python"
    }
  },
  "cells": [
    {
      "cell_type": "markdown",
      "metadata": {
        "id": "view-in-github",
        "colab_type": "text"
      },
      "source": [
        "<a href=\"https://colab.research.google.com/github/danaabdi/sephora/blob/main/Sephora_Capstone.ipynb\" target=\"_parent\"><img src=\"https://colab.research.google.com/assets/colab-badge.svg\" alt=\"Open In Colab\"/></a>"
      ]
    },
    {
      "cell_type": "markdown",
      "source": [
        "# **SEPHORA CAPSTONE PROJECT**"
      ],
      "metadata": {
        "id": "MI7IKWL4J9KB"
      }
    },
    {
      "cell_type": "code",
      "source": [
        "# Product Data Content\n",
        "# --------------------\n",
        "\n",
        "# product_id: The unique identifier for the product from the site\n",
        "# product_name: The full name of the product\n",
        "# brand_id: The unique identifier for the product brand from the site\n",
        "# brand_name: The full name of the product brand\n",
        "# loves_count: The number of people who have marked this product as a favorite\n",
        "# rating: The average rating of the product based on user reviews\n",
        "# reviews: The number of user reviews for the product\n",
        "# size: The size of the product, which may be in oz, ml, g, packs, or other units depending on the product type\n",
        "# variation_type: The type of variation parameter for the product (e.g. Size, Color)\n",
        "# variation_value: The specific value of the variation parameter for the product (e.g. 100 mL, Golden Sand)\n",
        "# variation_desc: A description of the variation parameter for the product (e.g. tone for fairest skin)\n",
        "# ingredients: A list of ingredients included in the product,\n",
        "#              for example: ['Product variation 1:', 'Water, Glycerin', 'Product variation 2:', 'Talc, Mica']\n",
        "#              or if no variations: ['Water, Glycerin']\n",
        "# price_usd: The price of the product in US dollars\n",
        "# value_price_usd: The potential cost savings of the product, presented on the site next to the regular price\n",
        "# sale_price_usd: The sale price of the product in US dollars\n",
        "# limited_edition: Indicates whether the product is a limited edition or not (1-true, 0-false)\n",
        "# new: Indicates whether the product is new or not (1-true, 0-false)\n",
        "# online_only: Indicates whether the product is only sold online or not (1-true, 0-false)\n",
        "# out_of_stock: Indicates whether the product is currently out of stock or not (1 if true, 0 if false)\n",
        "# sephora_exclusive: Indicates whether the product is exclusive to Sephora or not (1 if true, 0 if false)\n",
        "# highlights: A list of tags or features that highlight the product's attributes (e.g. ['Vegan', 'Matte Finish'])\n",
        "# primary_category: First category in the breadcrumb section\n",
        "# secondary_category: Second category in the breadcrumb section\n",
        "# tertiary_category: Third category in the breadcrumb section\n",
        "# child_count: The number of variations of the product available\n",
        "# child_max_price: The highest price among the variations of the product\n",
        "# child_min_price: The lowest price among the variations of the product\n"
      ],
      "metadata": {
        "id": "UQUrHidB_yEd"
      },
      "execution_count": null,
      "outputs": []
    },
    {
      "cell_type": "code",
      "execution_count": 1,
      "metadata": {
        "id": "JUJUnJuA-SOF"
      },
      "outputs": [],
      "source": [
        "import pandas as pd\n",
        "import numpy as np\n",
        "import seaborn as sns\n",
        "import matplotlib.pyplot as plt\n"
      ]
    },
    {
      "cell_type": "code",
      "source": [],
      "metadata": {
        "id": "8YfHWYJ8B9KW"
      },
      "execution_count": null,
      "outputs": []
    },
    {
      "cell_type": "code",
      "source": [
        "df = pd.read_csv('/content/clean_sephora_dataset.csv')\n",
        "df_reviews_1 = pd.read_csv('/content/reviews_0_250.csv')\n",
        "df_reviews_2 = pd.read_csv('/content/reviews_250_500.csv')\n",
        "df_reviews_3 = pd.read_csv('/content/reviews_500_750.csv')\n",
        "df_reviews_4 = pd.read_csv('/content/reviews_750_1000.csv')\n",
        "df_reviews_5 = pd.read_csv('/content/reviews_1000_1500.csv')\n",
        "df_reviews_6 = pd.read_csv('/content/reviews_1500_end.csv')\n",
        "\n"
      ],
      "metadata": {
        "colab": {
          "base_uri": "https://localhost:8080/"
        },
        "id": "Dv03i3w4-gZq",
        "outputId": "5b0652a3-ef5e-4ead-d1a1-822ac581666c"
      },
      "execution_count": 4,
      "outputs": [
        {
          "output_type": "stream",
          "name": "stderr",
          "text": [
            "<ipython-input-4-22b00beb0709>:2: DtypeWarning: Columns (1) have mixed types. Specify dtype option on import or set low_memory=False.\n",
            "  df_reviews_1 = pd.read_csv('/content/reviews_0_250.csv')\n",
            "<ipython-input-4-22b00beb0709>:6: DtypeWarning: Columns (1) have mixed types. Specify dtype option on import or set low_memory=False.\n",
            "  df_reviews_5 = pd.read_csv('/content/reviews_1000_1500.csv')\n",
            "<ipython-input-4-22b00beb0709>:7: DtypeWarning: Columns (1) have mixed types. Specify dtype option on import or set low_memory=False.\n",
            "  df_reviews_6 = pd.read_csv('/content/reviews_1500_end.csv')\n"
          ]
        }
      ]
    },
    {
      "cell_type": "code",
      "source": [
        "\n",
        "df_reviews= pd.concat([df_reviews_1, df_reviews_2, df_reviews_3,df_reviews_4,df_reviews_5,df_reviews_6], axis=0)"
      ],
      "metadata": {
        "id": "WitJEa4PAWOj"
      },
      "execution_count": 5,
      "outputs": []
    },
    {
      "cell_type": "code",
      "source": [
        "df_reviews.head()\n",
        "df_reviews.shape"
      ],
      "metadata": {
        "colab": {
          "base_uri": "https://localhost:8080/"
        },
        "id": "QClYUQ8sBGqS",
        "outputId": "607499ae-18f3-4b48-b488-ed185504370e"
      },
      "execution_count": 7,
      "outputs": [
        {
          "output_type": "execute_result",
          "data": {
            "text/plain": [
              "(1301136, 19)"
            ]
          },
          "metadata": {},
          "execution_count": 7
        }
      ]
    },
    {
      "cell_type": "code",
      "source": [
        "# Lets check dfwhich columns that similar with df_reviews\n",
        "cols_to_use = df.columns.difference(df_reviews.columns)\n",
        "cols_to_use = list(cols_to_use)\n",
        "cols_to_use.append('product_id')\n",
        "print(cols_to_use)"
      ],
      "metadata": {
        "colab": {
          "base_uri": "https://localhost:8080/"
        },
        "id": "dzMYQ5weBkBi",
        "outputId": "a521b0f1-0e83-4465-a252-de100a8eaf98"
      },
      "execution_count": 8,
      "outputs": [
        {
          "output_type": "stream",
          "name": "stdout",
          "text": [
            "['brand_id', 'child_count', 'child_max_price', 'child_min_price', 'highlights', 'ingredients', 'limited_edition', 'loves_count', 'new', 'online_only', 'out_of_stock', 'primary_category', 'reviews', 'sale_price_usd', 'secondary_category', 'sephora_exclusive', 'size', 'tertiary_category', 'value_price_usd', 'variation_type', 'variation_value', 'product_id']\n"
          ]
        }
      ]
    },
    {
      "cell_type": "code",
      "source": [
        "dff = pd.merge(df_reviews, df[cols_to_use], how='outer', on=['product_id', 'product_id'])\n",
        "dff.shape"
      ],
      "metadata": {
        "colab": {
          "base_uri": "https://localhost:8080/"
        },
        "id": "IZ7DJZi_Bpr2",
        "outputId": "8a370b37-aff3-4b85-bcd1-713ecee9162d"
      },
      "execution_count": 9,
      "outputs": [
        {
          "output_type": "execute_result",
          "data": {
            "text/plain": [
              "(1307279, 40)"
            ]
          },
          "metadata": {},
          "execution_count": 9
        }
      ]
    },
    {
      "cell_type": "markdown",
      "source": [
        "**1. Data Cleaning**"
      ],
      "metadata": {
        "id": "d8VhOe7T-sGq"
      }
    },
    {
      "cell_type": "code",
      "source": [
        "# 1. Basic structure and overview\n",
        "print(\"🧾 Shape of dataset:\", df.shape)\n",
        "print(\"\\n📋 Column types:\\n\", df.dtypes)\n",
        "print(\"\\n🔍 Preview of data:\\n\", df.head())"
      ],
      "metadata": {
        "colab": {
          "base_uri": "https://localhost:8080/"
        },
        "id": "AsRYlRW4-rMb",
        "outputId": "5ce31033-afa6-4b9c-bf71-65eb65449e87"
      },
      "execution_count": 3,
      "outputs": [
        {
          "output_type": "stream",
          "name": "stdout",
          "text": [
            "🧾 Shape of dataset: (8494, 26)\n",
            "\n",
            "📋 Column types:\n",
            " product_id             object\n",
            "product_name           object\n",
            "brand_id                int64\n",
            "brand_name             object\n",
            "loves_count             int64\n",
            "rating                float64\n",
            "reviews                 int64\n",
            "size                   object\n",
            "variation_type         object\n",
            "variation_value        object\n",
            "ingredients            object\n",
            "price_usd             float64\n",
            "value_price_usd       float64\n",
            "sale_price_usd        float64\n",
            "limited_edition         int64\n",
            "new                     int64\n",
            "online_only             int64\n",
            "out_of_stock            int64\n",
            "sephora_exclusive       int64\n",
            "highlights             object\n",
            "primary_category       object\n",
            "secondary_category     object\n",
            "tertiary_category      object\n",
            "child_count             int64\n",
            "child_max_price       float64\n",
            "child_min_price       float64\n",
            "dtype: object\n",
            "\n",
            "🔍 Preview of data:\n",
            "   product_id               product_name  brand_id brand_name  loves_count  \\\n",
            "0    P473671    Fragrance Discovery Set      6342      19-69         6320   \n",
            "1    P473668    La Habana Eau de Parfum      6342      19-69         3827   \n",
            "2    P473662  Rainbow Bar Eau de Parfum      6342      19-69         3253   \n",
            "3    P473660       Kasbah Eau de Parfum      6342      19-69         3018   \n",
            "4    P473658  Purple Haze Eau de Parfum      6342      19-69         2691   \n",
            "\n",
            "   rating  reviews            size                      variation_type  \\\n",
            "0    3.64       11         Unknown                        No variation   \n",
            "1    4.15       13  3.4 oz/ 100 mL  Size + Concentration + Formulation   \n",
            "2    4.25       16  3.4 oz/ 100 mL  Size + Concentration + Formulation   \n",
            "3    4.48       21  3.4 oz/ 100 mL  Size + Concentration + Formulation   \n",
            "4    3.23       13  3.4 oz/ 100 mL  Size + Concentration + Formulation   \n",
            "\n",
            "  variation_value  ... online_only  out_of_stock  sephora_exclusive  \\\n",
            "0    No variation  ...           1             0                  0   \n",
            "1  3.4 oz/ 100 mL  ...           1             0                  0   \n",
            "2  3.4 oz/ 100 mL  ...           1             0                  0   \n",
            "3  3.4 oz/ 100 mL  ...           1             0                  0   \n",
            "4  3.4 oz/ 100 mL  ...           1             0                  0   \n",
            "\n",
            "                                          highlights  primary_category  \\\n",
            "0  ['Unisex/ Genderless Scent', 'Warm &Spicy Scen...         Fragrance   \n",
            "1  ['Unisex/ Genderless Scent', 'Layerable Scent'...         Fragrance   \n",
            "2  ['Unisex/ Genderless Scent', 'Layerable Scent'...         Fragrance   \n",
            "3  ['Unisex/ Genderless Scent', 'Layerable Scent'...         Fragrance   \n",
            "4  ['Unisex/ Genderless Scent', 'Layerable Scent'...         Fragrance   \n",
            "\n",
            "   secondary_category  tertiary_category  child_count  child_max_price  \\\n",
            "0   Value & Gift Sets  Perfume Gift Sets            0             35.0   \n",
            "1               Women            Perfume            2             85.0   \n",
            "2               Women            Perfume            2             75.0   \n",
            "3               Women            Perfume            2             75.0   \n",
            "4               Women            Perfume            2             75.0   \n",
            "\n",
            "  child_min_price  \n",
            "0            35.0  \n",
            "1            30.0  \n",
            "2            30.0  \n",
            "3            30.0  \n",
            "4            30.0  \n",
            "\n",
            "[5 rows x 26 columns]\n"
          ]
        }
      ]
    },
    {
      "cell_type": "code",
      "source": [
        "# 2. Check for missing values\n",
        "print(\"\\n❓ Missing values count:\\n\", df.isnull().sum())\n",
        "print(\"\\n🔢 % of missing values:\\n\", (df.isnull().sum() / len(df)) * 100)"
      ],
      "metadata": {
        "colab": {
          "base_uri": "https://localhost:8080/"
        },
        "id": "IxIyOFZN_ZBa",
        "outputId": "cb692dd2-c04f-4e27-a2a3-5abce1660dbe"
      },
      "execution_count": null,
      "outputs": [
        {
          "output_type": "stream",
          "name": "stdout",
          "text": [
            "\n",
            "❓ Missing values count:\n",
            " product_id               0\n",
            "product_name             0\n",
            "brand_id                 0\n",
            "brand_name               0\n",
            "loves_count              0\n",
            "rating                 278\n",
            "reviews                278\n",
            "size                  1631\n",
            "variation_type        1444\n",
            "variation_value       1598\n",
            "variation_desc        7244\n",
            "ingredients            945\n",
            "price_usd                0\n",
            "value_price_usd       8043\n",
            "sale_price_usd        8224\n",
            "limited_edition          0\n",
            "new                      0\n",
            "online_only              0\n",
            "out_of_stock             0\n",
            "sephora_exclusive        0\n",
            "highlights            2207\n",
            "primary_category         0\n",
            "secondary_category       8\n",
            "tertiary_category      990\n",
            "child_count              0\n",
            "child_max_price       5740\n",
            "child_min_price       5740\n",
            "dtype: int64\n",
            "\n",
            "🔢 % of missing values:\n",
            " product_id             0.000000\n",
            "product_name           0.000000\n",
            "brand_id               0.000000\n",
            "brand_name             0.000000\n",
            "loves_count            0.000000\n",
            "rating                 3.272899\n",
            "reviews                3.272899\n",
            "size                  19.201789\n",
            "variation_type        17.000235\n",
            "variation_value       18.813280\n",
            "variation_desc        85.283730\n",
            "ingredients           11.125500\n",
            "price_usd              0.000000\n",
            "value_price_usd       94.690370\n",
            "sale_price_usd        96.821286\n",
            "limited_edition        0.000000\n",
            "new                    0.000000\n",
            "online_only            0.000000\n",
            "out_of_stock           0.000000\n",
            "sephora_exclusive      0.000000\n",
            "highlights            25.983047\n",
            "primary_category       0.000000\n",
            "secondary_category     0.094184\n",
            "tertiary_category     11.655286\n",
            "child_count            0.000000\n",
            "child_max_price       67.577113\n",
            "child_min_price       67.577113\n",
            "dtype: float64\n"
          ]
        }
      ]
    },
    {
      "cell_type": "code",
      "source": [
        "#Step 3 Cleaning\n",
        "# Fill price-related fields\n",
        "df['sale_price_usd'] = df['sale_price_usd'].fillna(0)\n",
        "df['value_price_usd'] = df['value_price_usd'].fillna(0)\n",
        "df['child_max_price'] = df['child_max_price'].fillna(df['price_usd'])\n",
        "df['child_min_price'] = df['child_min_price'].fillna(df['price_usd'])\n",
        "\n",
        "# Fill text/categorical fields\n",
        "df['size'] = df['size'].fillna('Unknown')\n",
        "df['variation_type'] = df['variation_type'].fillna('No variation')\n",
        "df['variation_value'] = df['variation_value'].fillna('No variation')\n",
        "df['tertiary_category'] = df['tertiary_category'].fillna('Unknown')\n",
        "\n",
        "# Fill list-type column\n",
        "df['highlights'] = df['highlights'].fillna('[]')"
      ],
      "metadata": {
        "id": "h42qFdlHBwH-"
      },
      "execution_count": null,
      "outputs": []
    },
    {
      "cell_type": "code",
      "source": [
        "# Round the 'rating' column to 2 decimal places\n",
        "df['rating'] = df['rating'].round(2)\n",
        "df.head()"
      ],
      "metadata": {
        "colab": {
          "base_uri": "https://localhost:8080/",
          "height": 620
        },
        "id": "fee0eREnDdCM",
        "outputId": "22e4a668-1ef2-4845-9eac-5a816671652a"
      },
      "execution_count": null,
      "outputs": [
        {
          "output_type": "execute_result",
          "data": {
            "text/plain": [
              "  product_id               product_name  brand_id brand_name  loves_count  \\\n",
              "0    P473671    Fragrance Discovery Set      6342      19-69         6320   \n",
              "1    P473668    La Habana Eau de Parfum      6342      19-69         3827   \n",
              "2    P473662  Rainbow Bar Eau de Parfum      6342      19-69         3253   \n",
              "3    P473660       Kasbah Eau de Parfum      6342      19-69         3018   \n",
              "4    P473658  Purple Haze Eau de Parfum      6342      19-69         2691   \n",
              "\n",
              "   rating  reviews            size                      variation_type  \\\n",
              "0    3.64     11.0         Unknown                        No variation   \n",
              "1    4.15     13.0  3.4 oz/ 100 mL  Size + Concentration + Formulation   \n",
              "2    4.25     16.0  3.4 oz/ 100 mL  Size + Concentration + Formulation   \n",
              "3    4.48     21.0  3.4 oz/ 100 mL  Size + Concentration + Formulation   \n",
              "4    3.23     13.0  3.4 oz/ 100 mL  Size + Concentration + Formulation   \n",
              "\n",
              "  variation_value  ... online_only  out_of_stock  sephora_exclusive  \\\n",
              "0    No variation  ...           1             0                  0   \n",
              "1  3.4 oz/ 100 mL  ...           1             0                  0   \n",
              "2  3.4 oz/ 100 mL  ...           1             0                  0   \n",
              "3  3.4 oz/ 100 mL  ...           1             0                  0   \n",
              "4  3.4 oz/ 100 mL  ...           1             0                  0   \n",
              "\n",
              "                                          highlights  primary_category  \\\n",
              "0  ['Unisex/ Genderless Scent', 'Warm &Spicy Scen...         Fragrance   \n",
              "1  ['Unisex/ Genderless Scent', 'Layerable Scent'...         Fragrance   \n",
              "2  ['Unisex/ Genderless Scent', 'Layerable Scent'...         Fragrance   \n",
              "3  ['Unisex/ Genderless Scent', 'Layerable Scent'...         Fragrance   \n",
              "4  ['Unisex/ Genderless Scent', 'Layerable Scent'...         Fragrance   \n",
              "\n",
              "   secondary_category  tertiary_category  child_count  child_max_price  \\\n",
              "0   Value & Gift Sets  Perfume Gift Sets            0             35.0   \n",
              "1               Women            Perfume            2             85.0   \n",
              "2               Women            Perfume            2             75.0   \n",
              "3               Women            Perfume            2             75.0   \n",
              "4               Women            Perfume            2             75.0   \n",
              "\n",
              "  child_min_price  \n",
              "0            35.0  \n",
              "1            30.0  \n",
              "2            30.0  \n",
              "3            30.0  \n",
              "4            30.0  \n",
              "\n",
              "[5 rows x 26 columns]"
            ],
            "text/html": [
              "\n",
              "  <div id=\"df-9ae14b6b-888c-4e5c-94d3-1584a4ffc4d0\" class=\"colab-df-container\">\n",
              "    <div>\n",
              "<style scoped>\n",
              "    .dataframe tbody tr th:only-of-type {\n",
              "        vertical-align: middle;\n",
              "    }\n",
              "\n",
              "    .dataframe tbody tr th {\n",
              "        vertical-align: top;\n",
              "    }\n",
              "\n",
              "    .dataframe thead th {\n",
              "        text-align: right;\n",
              "    }\n",
              "</style>\n",
              "<table border=\"1\" class=\"dataframe\">\n",
              "  <thead>\n",
              "    <tr style=\"text-align: right;\">\n",
              "      <th></th>\n",
              "      <th>product_id</th>\n",
              "      <th>product_name</th>\n",
              "      <th>brand_id</th>\n",
              "      <th>brand_name</th>\n",
              "      <th>loves_count</th>\n",
              "      <th>rating</th>\n",
              "      <th>reviews</th>\n",
              "      <th>size</th>\n",
              "      <th>variation_type</th>\n",
              "      <th>variation_value</th>\n",
              "      <th>...</th>\n",
              "      <th>online_only</th>\n",
              "      <th>out_of_stock</th>\n",
              "      <th>sephora_exclusive</th>\n",
              "      <th>highlights</th>\n",
              "      <th>primary_category</th>\n",
              "      <th>secondary_category</th>\n",
              "      <th>tertiary_category</th>\n",
              "      <th>child_count</th>\n",
              "      <th>child_max_price</th>\n",
              "      <th>child_min_price</th>\n",
              "    </tr>\n",
              "  </thead>\n",
              "  <tbody>\n",
              "    <tr>\n",
              "      <th>0</th>\n",
              "      <td>P473671</td>\n",
              "      <td>Fragrance Discovery Set</td>\n",
              "      <td>6342</td>\n",
              "      <td>19-69</td>\n",
              "      <td>6320</td>\n",
              "      <td>3.64</td>\n",
              "      <td>11.0</td>\n",
              "      <td>Unknown</td>\n",
              "      <td>No variation</td>\n",
              "      <td>No variation</td>\n",
              "      <td>...</td>\n",
              "      <td>1</td>\n",
              "      <td>0</td>\n",
              "      <td>0</td>\n",
              "      <td>['Unisex/ Genderless Scent', 'Warm &amp;Spicy Scen...</td>\n",
              "      <td>Fragrance</td>\n",
              "      <td>Value &amp; Gift Sets</td>\n",
              "      <td>Perfume Gift Sets</td>\n",
              "      <td>0</td>\n",
              "      <td>35.0</td>\n",
              "      <td>35.0</td>\n",
              "    </tr>\n",
              "    <tr>\n",
              "      <th>1</th>\n",
              "      <td>P473668</td>\n",
              "      <td>La Habana Eau de Parfum</td>\n",
              "      <td>6342</td>\n",
              "      <td>19-69</td>\n",
              "      <td>3827</td>\n",
              "      <td>4.15</td>\n",
              "      <td>13.0</td>\n",
              "      <td>3.4 oz/ 100 mL</td>\n",
              "      <td>Size + Concentration + Formulation</td>\n",
              "      <td>3.4 oz/ 100 mL</td>\n",
              "      <td>...</td>\n",
              "      <td>1</td>\n",
              "      <td>0</td>\n",
              "      <td>0</td>\n",
              "      <td>['Unisex/ Genderless Scent', 'Layerable Scent'...</td>\n",
              "      <td>Fragrance</td>\n",
              "      <td>Women</td>\n",
              "      <td>Perfume</td>\n",
              "      <td>2</td>\n",
              "      <td>85.0</td>\n",
              "      <td>30.0</td>\n",
              "    </tr>\n",
              "    <tr>\n",
              "      <th>2</th>\n",
              "      <td>P473662</td>\n",
              "      <td>Rainbow Bar Eau de Parfum</td>\n",
              "      <td>6342</td>\n",
              "      <td>19-69</td>\n",
              "      <td>3253</td>\n",
              "      <td>4.25</td>\n",
              "      <td>16.0</td>\n",
              "      <td>3.4 oz/ 100 mL</td>\n",
              "      <td>Size + Concentration + Formulation</td>\n",
              "      <td>3.4 oz/ 100 mL</td>\n",
              "      <td>...</td>\n",
              "      <td>1</td>\n",
              "      <td>0</td>\n",
              "      <td>0</td>\n",
              "      <td>['Unisex/ Genderless Scent', 'Layerable Scent'...</td>\n",
              "      <td>Fragrance</td>\n",
              "      <td>Women</td>\n",
              "      <td>Perfume</td>\n",
              "      <td>2</td>\n",
              "      <td>75.0</td>\n",
              "      <td>30.0</td>\n",
              "    </tr>\n",
              "    <tr>\n",
              "      <th>3</th>\n",
              "      <td>P473660</td>\n",
              "      <td>Kasbah Eau de Parfum</td>\n",
              "      <td>6342</td>\n",
              "      <td>19-69</td>\n",
              "      <td>3018</td>\n",
              "      <td>4.48</td>\n",
              "      <td>21.0</td>\n",
              "      <td>3.4 oz/ 100 mL</td>\n",
              "      <td>Size + Concentration + Formulation</td>\n",
              "      <td>3.4 oz/ 100 mL</td>\n",
              "      <td>...</td>\n",
              "      <td>1</td>\n",
              "      <td>0</td>\n",
              "      <td>0</td>\n",
              "      <td>['Unisex/ Genderless Scent', 'Layerable Scent'...</td>\n",
              "      <td>Fragrance</td>\n",
              "      <td>Women</td>\n",
              "      <td>Perfume</td>\n",
              "      <td>2</td>\n",
              "      <td>75.0</td>\n",
              "      <td>30.0</td>\n",
              "    </tr>\n",
              "    <tr>\n",
              "      <th>4</th>\n",
              "      <td>P473658</td>\n",
              "      <td>Purple Haze Eau de Parfum</td>\n",
              "      <td>6342</td>\n",
              "      <td>19-69</td>\n",
              "      <td>2691</td>\n",
              "      <td>3.23</td>\n",
              "      <td>13.0</td>\n",
              "      <td>3.4 oz/ 100 mL</td>\n",
              "      <td>Size + Concentration + Formulation</td>\n",
              "      <td>3.4 oz/ 100 mL</td>\n",
              "      <td>...</td>\n",
              "      <td>1</td>\n",
              "      <td>0</td>\n",
              "      <td>0</td>\n",
              "      <td>['Unisex/ Genderless Scent', 'Layerable Scent'...</td>\n",
              "      <td>Fragrance</td>\n",
              "      <td>Women</td>\n",
              "      <td>Perfume</td>\n",
              "      <td>2</td>\n",
              "      <td>75.0</td>\n",
              "      <td>30.0</td>\n",
              "    </tr>\n",
              "  </tbody>\n",
              "</table>\n",
              "<p>5 rows × 26 columns</p>\n",
              "</div>\n",
              "    <div class=\"colab-df-buttons\">\n",
              "\n",
              "  <div class=\"colab-df-container\">\n",
              "    <button class=\"colab-df-convert\" onclick=\"convertToInteractive('df-9ae14b6b-888c-4e5c-94d3-1584a4ffc4d0')\"\n",
              "            title=\"Convert this dataframe to an interactive table.\"\n",
              "            style=\"display:none;\">\n",
              "\n",
              "  <svg xmlns=\"http://www.w3.org/2000/svg\" height=\"24px\" viewBox=\"0 -960 960 960\">\n",
              "    <path d=\"M120-120v-720h720v720H120Zm60-500h600v-160H180v160Zm220 220h160v-160H400v160Zm0 220h160v-160H400v160ZM180-400h160v-160H180v160Zm440 0h160v-160H620v160ZM180-180h160v-160H180v160Zm440 0h160v-160H620v160Z\"/>\n",
              "  </svg>\n",
              "    </button>\n",
              "\n",
              "  <style>\n",
              "    .colab-df-container {\n",
              "      display:flex;\n",
              "      gap: 12px;\n",
              "    }\n",
              "\n",
              "    .colab-df-convert {\n",
              "      background-color: #E8F0FE;\n",
              "      border: none;\n",
              "      border-radius: 50%;\n",
              "      cursor: pointer;\n",
              "      display: none;\n",
              "      fill: #1967D2;\n",
              "      height: 32px;\n",
              "      padding: 0 0 0 0;\n",
              "      width: 32px;\n",
              "    }\n",
              "\n",
              "    .colab-df-convert:hover {\n",
              "      background-color: #E2EBFA;\n",
              "      box-shadow: 0px 1px 2px rgba(60, 64, 67, 0.3), 0px 1px 3px 1px rgba(60, 64, 67, 0.15);\n",
              "      fill: #174EA6;\n",
              "    }\n",
              "\n",
              "    .colab-df-buttons div {\n",
              "      margin-bottom: 4px;\n",
              "    }\n",
              "\n",
              "    [theme=dark] .colab-df-convert {\n",
              "      background-color: #3B4455;\n",
              "      fill: #D2E3FC;\n",
              "    }\n",
              "\n",
              "    [theme=dark] .colab-df-convert:hover {\n",
              "      background-color: #434B5C;\n",
              "      box-shadow: 0px 1px 3px 1px rgba(0, 0, 0, 0.15);\n",
              "      filter: drop-shadow(0px 1px 2px rgba(0, 0, 0, 0.3));\n",
              "      fill: #FFFFFF;\n",
              "    }\n",
              "  </style>\n",
              "\n",
              "    <script>\n",
              "      const buttonEl =\n",
              "        document.querySelector('#df-9ae14b6b-888c-4e5c-94d3-1584a4ffc4d0 button.colab-df-convert');\n",
              "      buttonEl.style.display =\n",
              "        google.colab.kernel.accessAllowed ? 'block' : 'none';\n",
              "\n",
              "      async function convertToInteractive(key) {\n",
              "        const element = document.querySelector('#df-9ae14b6b-888c-4e5c-94d3-1584a4ffc4d0');\n",
              "        const dataTable =\n",
              "          await google.colab.kernel.invokeFunction('convertToInteractive',\n",
              "                                                    [key], {});\n",
              "        if (!dataTable) return;\n",
              "\n",
              "        const docLinkHtml = 'Like what you see? Visit the ' +\n",
              "          '<a target=\"_blank\" href=https://colab.research.google.com/notebooks/data_table.ipynb>data table notebook</a>'\n",
              "          + ' to learn more about interactive tables.';\n",
              "        element.innerHTML = '';\n",
              "        dataTable['output_type'] = 'display_data';\n",
              "        await google.colab.output.renderOutput(dataTable, element);\n",
              "        const docLink = document.createElement('div');\n",
              "        docLink.innerHTML = docLinkHtml;\n",
              "        element.appendChild(docLink);\n",
              "      }\n",
              "    </script>\n",
              "  </div>\n",
              "\n",
              "\n",
              "    <div id=\"df-e6934f6b-d4c4-48f6-b2cb-a7021fde0998\">\n",
              "      <button class=\"colab-df-quickchart\" onclick=\"quickchart('df-e6934f6b-d4c4-48f6-b2cb-a7021fde0998')\"\n",
              "                title=\"Suggest charts\"\n",
              "                style=\"display:none;\">\n",
              "\n",
              "<svg xmlns=\"http://www.w3.org/2000/svg\" height=\"24px\"viewBox=\"0 0 24 24\"\n",
              "     width=\"24px\">\n",
              "    <g>\n",
              "        <path d=\"M19 3H5c-1.1 0-2 .9-2 2v14c0 1.1.9 2 2 2h14c1.1 0 2-.9 2-2V5c0-1.1-.9-2-2-2zM9 17H7v-7h2v7zm4 0h-2V7h2v10zm4 0h-2v-4h2v4z\"/>\n",
              "    </g>\n",
              "</svg>\n",
              "      </button>\n",
              "\n",
              "<style>\n",
              "  .colab-df-quickchart {\n",
              "      --bg-color: #E8F0FE;\n",
              "      --fill-color: #1967D2;\n",
              "      --hover-bg-color: #E2EBFA;\n",
              "      --hover-fill-color: #174EA6;\n",
              "      --disabled-fill-color: #AAA;\n",
              "      --disabled-bg-color: #DDD;\n",
              "  }\n",
              "\n",
              "  [theme=dark] .colab-df-quickchart {\n",
              "      --bg-color: #3B4455;\n",
              "      --fill-color: #D2E3FC;\n",
              "      --hover-bg-color: #434B5C;\n",
              "      --hover-fill-color: #FFFFFF;\n",
              "      --disabled-bg-color: #3B4455;\n",
              "      --disabled-fill-color: #666;\n",
              "  }\n",
              "\n",
              "  .colab-df-quickchart {\n",
              "    background-color: var(--bg-color);\n",
              "    border: none;\n",
              "    border-radius: 50%;\n",
              "    cursor: pointer;\n",
              "    display: none;\n",
              "    fill: var(--fill-color);\n",
              "    height: 32px;\n",
              "    padding: 0;\n",
              "    width: 32px;\n",
              "  }\n",
              "\n",
              "  .colab-df-quickchart:hover {\n",
              "    background-color: var(--hover-bg-color);\n",
              "    box-shadow: 0 1px 2px rgba(60, 64, 67, 0.3), 0 1px 3px 1px rgba(60, 64, 67, 0.15);\n",
              "    fill: var(--button-hover-fill-color);\n",
              "  }\n",
              "\n",
              "  .colab-df-quickchart-complete:disabled,\n",
              "  .colab-df-quickchart-complete:disabled:hover {\n",
              "    background-color: var(--disabled-bg-color);\n",
              "    fill: var(--disabled-fill-color);\n",
              "    box-shadow: none;\n",
              "  }\n",
              "\n",
              "  .colab-df-spinner {\n",
              "    border: 2px solid var(--fill-color);\n",
              "    border-color: transparent;\n",
              "    border-bottom-color: var(--fill-color);\n",
              "    animation:\n",
              "      spin 1s steps(1) infinite;\n",
              "  }\n",
              "\n",
              "  @keyframes spin {\n",
              "    0% {\n",
              "      border-color: transparent;\n",
              "      border-bottom-color: var(--fill-color);\n",
              "      border-left-color: var(--fill-color);\n",
              "    }\n",
              "    20% {\n",
              "      border-color: transparent;\n",
              "      border-left-color: var(--fill-color);\n",
              "      border-top-color: var(--fill-color);\n",
              "    }\n",
              "    30% {\n",
              "      border-color: transparent;\n",
              "      border-left-color: var(--fill-color);\n",
              "      border-top-color: var(--fill-color);\n",
              "      border-right-color: var(--fill-color);\n",
              "    }\n",
              "    40% {\n",
              "      border-color: transparent;\n",
              "      border-right-color: var(--fill-color);\n",
              "      border-top-color: var(--fill-color);\n",
              "    }\n",
              "    60% {\n",
              "      border-color: transparent;\n",
              "      border-right-color: var(--fill-color);\n",
              "    }\n",
              "    80% {\n",
              "      border-color: transparent;\n",
              "      border-right-color: var(--fill-color);\n",
              "      border-bottom-color: var(--fill-color);\n",
              "    }\n",
              "    90% {\n",
              "      border-color: transparent;\n",
              "      border-bottom-color: var(--fill-color);\n",
              "    }\n",
              "  }\n",
              "</style>\n",
              "\n",
              "      <script>\n",
              "        async function quickchart(key) {\n",
              "          const quickchartButtonEl =\n",
              "            document.querySelector('#' + key + ' button');\n",
              "          quickchartButtonEl.disabled = true;  // To prevent multiple clicks.\n",
              "          quickchartButtonEl.classList.add('colab-df-spinner');\n",
              "          try {\n",
              "            const charts = await google.colab.kernel.invokeFunction(\n",
              "                'suggestCharts', [key], {});\n",
              "          } catch (error) {\n",
              "            console.error('Error during call to suggestCharts:', error);\n",
              "          }\n",
              "          quickchartButtonEl.classList.remove('colab-df-spinner');\n",
              "          quickchartButtonEl.classList.add('colab-df-quickchart-complete');\n",
              "        }\n",
              "        (() => {\n",
              "          let quickchartButtonEl =\n",
              "            document.querySelector('#df-e6934f6b-d4c4-48f6-b2cb-a7021fde0998 button');\n",
              "          quickchartButtonEl.style.display =\n",
              "            google.colab.kernel.accessAllowed ? 'block' : 'none';\n",
              "        })();\n",
              "      </script>\n",
              "    </div>\n",
              "\n",
              "    </div>\n",
              "  </div>\n"
            ],
            "application/vnd.google.colaboratory.intrinsic+json": {
              "type": "dataframe",
              "variable_name": "df"
            }
          },
          "metadata": {},
          "execution_count": 13
        }
      ]
    },
    {
      "cell_type": "code",
      "source": [
        "print(\"\\n❓ Missing values count:\\n\", df.isnull().sum())"
      ],
      "metadata": {
        "colab": {
          "base_uri": "https://localhost:8080/"
        },
        "id": "ldsKD1a2E_Ky",
        "outputId": "01ff812f-a591-4d5e-f4de-60b472184646"
      },
      "execution_count": null,
      "outputs": [
        {
          "output_type": "stream",
          "name": "stdout",
          "text": [
            "\n",
            "❓ Missing values count:\n",
            " product_id              0\n",
            "product_name            0\n",
            "brand_id                0\n",
            "brand_name              0\n",
            "loves_count             0\n",
            "rating                278\n",
            "reviews               278\n",
            "size                    0\n",
            "variation_type          0\n",
            "variation_value         0\n",
            "ingredients           945\n",
            "price_usd               0\n",
            "value_price_usd         0\n",
            "sale_price_usd          0\n",
            "limited_edition         0\n",
            "new                     0\n",
            "online_only             0\n",
            "out_of_stock            0\n",
            "sephora_exclusive       0\n",
            "highlights              0\n",
            "primary_category        0\n",
            "secondary_category      8\n",
            "tertiary_category       0\n",
            "child_count             0\n",
            "child_max_price         0\n",
            "child_min_price         0\n",
            "dtype: int64\n"
          ]
        }
      ]
    },
    {
      "cell_type": "code",
      "source": [
        "df['ingredients'] = df['ingredients'].fillna('Unknown ingredients')\n",
        "df['rating'] = df['rating'].fillna(0)\n",
        "df['reviews'] = df['reviews'].fillna(0)"
      ],
      "metadata": {
        "id": "lBlHIVmOFSml"
      },
      "execution_count": null,
      "outputs": []
    },
    {
      "cell_type": "code",
      "source": [
        "# Fill ratings with median or custom value if you want to track missing ratings\n",
        "df['rating'] = df['rating'].fillna(df['rating'].median())  # or .fillna(-1)\n",
        "\n",
        "# Reviews: 0 makes sense as no one has reviewed these products\n",
        "df['reviews'] = df['reviews'].fillna(0).astype(int)"
      ],
      "metadata": {
        "id": "BwDzSE0WHicB"
      },
      "execution_count": null,
      "outputs": []
    },
    {
      "cell_type": "code",
      "source": [
        "filename = \"clean_sephora_dataset.csv\"\n",
        "df.to_csv(filename, index=False)\n",
        "\n",
        "# Download it\n",
        "from google.colab import files\n",
        "files.download(filename)\n"
      ],
      "metadata": {
        "colab": {
          "base_uri": "https://localhost:8080/",
          "height": 17
        },
        "id": "JMR7_PXIILFC",
        "outputId": "b0524342-e79e-4c0e-d55b-d76f43b3aa92"
      },
      "execution_count": null,
      "outputs": [
        {
          "output_type": "display_data",
          "data": {
            "text/plain": [
              "<IPython.core.display.Javascript object>"
            ],
            "application/javascript": [
              "\n",
              "    async function download(id, filename, size) {\n",
              "      if (!google.colab.kernel.accessAllowed) {\n",
              "        return;\n",
              "      }\n",
              "      const div = document.createElement('div');\n",
              "      const label = document.createElement('label');\n",
              "      label.textContent = `Downloading \"${filename}\": `;\n",
              "      div.appendChild(label);\n",
              "      const progress = document.createElement('progress');\n",
              "      progress.max = size;\n",
              "      div.appendChild(progress);\n",
              "      document.body.appendChild(div);\n",
              "\n",
              "      const buffers = [];\n",
              "      let downloaded = 0;\n",
              "\n",
              "      const channel = await google.colab.kernel.comms.open(id);\n",
              "      // Send a message to notify the kernel that we're ready.\n",
              "      channel.send({})\n",
              "\n",
              "      for await (const message of channel.messages) {\n",
              "        // Send a message to notify the kernel that we're ready.\n",
              "        channel.send({})\n",
              "        if (message.buffers) {\n",
              "          for (const buffer of message.buffers) {\n",
              "            buffers.push(buffer);\n",
              "            downloaded += buffer.byteLength;\n",
              "            progress.value = downloaded;\n",
              "          }\n",
              "        }\n",
              "      }\n",
              "      const blob = new Blob(buffers, {type: 'application/binary'});\n",
              "      const a = document.createElement('a');\n",
              "      a.href = window.URL.createObjectURL(blob);\n",
              "      a.download = filename;\n",
              "      div.appendChild(a);\n",
              "      a.click();\n",
              "      div.remove();\n",
              "    }\n",
              "  "
            ]
          },
          "metadata": {}
        },
        {
          "output_type": "display_data",
          "data": {
            "text/plain": [
              "<IPython.core.display.Javascript object>"
            ],
            "application/javascript": [
              "download(\"download_bcb042b4-b39c-41b1-9863-696a6a551cf8\", \"clean_sephora_dataset.csv\", 8056262)"
            ]
          },
          "metadata": {}
        }
      ]
    },
    {
      "cell_type": "code",
      "source": [],
      "metadata": {
        "id": "Qn7eD30TKMEm"
      },
      "execution_count": null,
      "outputs": []
    }
  ]
}